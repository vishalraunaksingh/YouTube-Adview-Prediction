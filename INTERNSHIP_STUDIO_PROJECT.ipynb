{
 "cells": [
  {
   "cell_type": "markdown",
   "metadata": {
    "id": "TVd2quXXQOhk"
   },
   "source": [
    "IMPORTING NECESSARY LIBRARIES"
   ]
  },
  {
   "cell_type": "code",
   "execution_count": 1,
   "metadata": {
    "id": "n_E2JOKQHHTm"
   },
   "outputs": [],
   "source": [
    "import numpy as np\n",
    "import pandas as pd\n",
    "import matplotlib.cm as cm\n",
    "import matplotlib.pyplot as plt\n",
    "import tensorflow as tf"
   ]
  },
  {
   "cell_type": "markdown",
   "metadata": {
    "id": "_Jo9M00_QaXe"
   },
   "source": [
    "UPLOADING TRAIN.CSV and TEST.CSV FILE "
   ]
  },
  {
   "cell_type": "code",
   "execution_count": 2,
   "metadata": {
    "colab": {
     "base_uri": "https://localhost:8080/",
     "height": 90,
     "resources": {
      "http://localhost:8080/nbextensions/google.colab/files.js": {
       "data": "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",
       "headers": [
        [
         "content-type",
         "application/javascript"
        ]
       ],
       "ok": true,
       "status": 200,
       "status_text": ""
      }
     }
    },
    "id": "CRyb5SjbH3om",
    "outputId": "4ddfc000-0c41-4a2d-a423-48ceef65c10f"
   },
   "outputs": [
    {
     "data": {
      "text/html": [
       "\n",
       "     <input type=\"file\" id=\"files-06b9303e-fc17-4365-b8e3-4ba75c77c68f\" name=\"files[]\" multiple disabled\n",
       "        style=\"border:none\" />\n",
       "     <output id=\"result-06b9303e-fc17-4365-b8e3-4ba75c77c68f\">\n",
       "      Upload widget is only available when the cell has been executed in the\n",
       "      current browser session. Please rerun this cell to enable.\n",
       "      </output>\n",
       "      <script src=\"/nbextensions/google.colab/files.js\"></script> "
      ],
      "text/plain": [
       "<IPython.core.display.HTML object>"
      ]
     },
     "metadata": {
      "tags": []
     },
     "output_type": "display_data"
    },
    {
     "name": "stdout",
     "output_type": "stream",
     "text": [
      "Saving train.csv to train.csv\n",
      "User uploaded file \"train.csv\" with length 747966 bytes\n"
     ]
    }
   ],
   "source": [
    "from google.colab import files\n",
    "\n",
    "uploaded = files.upload()\n",
    "\n",
    "for fn in uploaded.keys():\n",
    "  print('User uploaded file \"{name}\" with length {length} bytes'.format(\n",
    "      name=fn, length=len(uploaded[fn])))"
   ]
  },
  {
   "cell_type": "code",
   "execution_count": 3,
   "metadata": {
    "colab": {
     "base_uri": "https://localhost:8080/",
     "height": 90,
     "resources": {
      "http://localhost:8080/nbextensions/google.colab/files.js": {
       "data": "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",
       "headers": [
        [
         "content-type",
         "application/javascript"
        ]
       ],
       "ok": true,
       "status": 200,
       "status_text": ""
      }
     }
    },
    "id": "9JGyLlZ5X3yx",
    "outputId": "c1cd0b36-3571-45b2-df03-d00086654082"
   },
   "outputs": [
    {
     "data": {
      "text/html": [
       "\n",
       "     <input type=\"file\" id=\"files-5a62d7a0-c77b-4a55-bcfa-1e8113f8ce60\" name=\"files[]\" multiple disabled\n",
       "        style=\"border:none\" />\n",
       "     <output id=\"result-5a62d7a0-c77b-4a55-bcfa-1e8113f8ce60\">\n",
       "      Upload widget is only available when the cell has been executed in the\n",
       "      current browser session. Please rerun this cell to enable.\n",
       "      </output>\n",
       "      <script src=\"/nbextensions/google.colab/files.js\"></script> "
      ],
      "text/plain": [
       "<IPython.core.display.HTML object>"
      ]
     },
     "metadata": {
      "tags": []
     },
     "output_type": "display_data"
    },
    {
     "name": "stdout",
     "output_type": "stream",
     "text": [
      "Saving test.csv to test.csv\n",
      "User uploaded file \"test.csv\" with length 416903 bytes\n"
     ]
    }
   ],
   "source": [
    "from google.colab import files\n",
    "\n",
    "uploaded = files.upload()\n",
    "\n",
    "for fn in uploaded.keys():\n",
    "  print('User uploaded file \"{name}\" with length {length} bytes'.format(\n",
    "      name=fn, length=len(uploaded[fn])))"
   ]
  },
  {
   "cell_type": "markdown",
   "metadata": {
    "id": "nLlpQ1o1QgE1"
   },
   "source": [
    "READING TRAIN.CSV and TEST.CSV FILE"
   ]
  },
  {
   "cell_type": "code",
   "execution_count": 4,
   "metadata": {
    "colab": {
     "base_uri": "https://localhost:8080/",
     "height": 195
    },
    "id": "rE3L9kriHZCY",
    "outputId": "3857bc23-0842-44d6-97b2-3af570bc11ab"
   },
   "outputs": [
    {
     "data": {
      "text/html": [
       "<div>\n",
       "<style scoped>\n",
       "    .dataframe tbody tr th:only-of-type {\n",
       "        vertical-align: middle;\n",
       "    }\n",
       "\n",
       "    .dataframe tbody tr th {\n",
       "        vertical-align: top;\n",
       "    }\n",
       "\n",
       "    .dataframe thead th {\n",
       "        text-align: right;\n",
       "    }\n",
       "</style>\n",
       "<table border=\"1\" class=\"dataframe\">\n",
       "  <thead>\n",
       "    <tr style=\"text-align: right;\">\n",
       "      <th></th>\n",
       "      <th>vidid</th>\n",
       "      <th>adview</th>\n",
       "      <th>views</th>\n",
       "      <th>likes</th>\n",
       "      <th>dislikes</th>\n",
       "      <th>comment</th>\n",
       "      <th>published</th>\n",
       "      <th>duration</th>\n",
       "      <th>category</th>\n",
       "    </tr>\n",
       "  </thead>\n",
       "  <tbody>\n",
       "    <tr>\n",
       "      <th>0</th>\n",
       "      <td>VID_18655</td>\n",
       "      <td>40</td>\n",
       "      <td>1031602</td>\n",
       "      <td>8523</td>\n",
       "      <td>363</td>\n",
       "      <td>1095</td>\n",
       "      <td>2016-09-14</td>\n",
       "      <td>PT7M37S</td>\n",
       "      <td>F</td>\n",
       "    </tr>\n",
       "    <tr>\n",
       "      <th>1</th>\n",
       "      <td>VID_14135</td>\n",
       "      <td>2</td>\n",
       "      <td>1707</td>\n",
       "      <td>56</td>\n",
       "      <td>2</td>\n",
       "      <td>6</td>\n",
       "      <td>2016-10-01</td>\n",
       "      <td>PT9M30S</td>\n",
       "      <td>D</td>\n",
       "    </tr>\n",
       "    <tr>\n",
       "      <th>2</th>\n",
       "      <td>VID_2187</td>\n",
       "      <td>1</td>\n",
       "      <td>2023</td>\n",
       "      <td>25</td>\n",
       "      <td>0</td>\n",
       "      <td>2</td>\n",
       "      <td>2016-07-02</td>\n",
       "      <td>PT2M16S</td>\n",
       "      <td>C</td>\n",
       "    </tr>\n",
       "    <tr>\n",
       "      <th>3</th>\n",
       "      <td>VID_23096</td>\n",
       "      <td>6</td>\n",
       "      <td>620860</td>\n",
       "      <td>777</td>\n",
       "      <td>161</td>\n",
       "      <td>153</td>\n",
       "      <td>2016-07-27</td>\n",
       "      <td>PT4M22S</td>\n",
       "      <td>H</td>\n",
       "    </tr>\n",
       "    <tr>\n",
       "      <th>4</th>\n",
       "      <td>VID_10175</td>\n",
       "      <td>1</td>\n",
       "      <td>666</td>\n",
       "      <td>1</td>\n",
       "      <td>0</td>\n",
       "      <td>0</td>\n",
       "      <td>2016-06-29</td>\n",
       "      <td>PT31S</td>\n",
       "      <td>D</td>\n",
       "    </tr>\n",
       "  </tbody>\n",
       "</table>\n",
       "</div>"
      ],
      "text/plain": [
       "       vidid  adview    views likes  ... comment   published duration category\n",
       "0  VID_18655      40  1031602  8523  ...    1095  2016-09-14  PT7M37S        F\n",
       "1  VID_14135       2     1707    56  ...       6  2016-10-01  PT9M30S        D\n",
       "2   VID_2187       1     2023    25  ...       2  2016-07-02  PT2M16S        C\n",
       "3  VID_23096       6   620860   777  ...     153  2016-07-27  PT4M22S        H\n",
       "4  VID_10175       1      666     1  ...       0  2016-06-29    PT31S        D\n",
       "\n",
       "[5 rows x 9 columns]"
      ]
     },
     "execution_count": 4,
     "metadata": {
      "tags": []
     },
     "output_type": "execute_result"
    }
   ],
   "source": [
    "data_train = pd.read_csv(\"train.csv\")\n",
    "data_train.head()"
   ]
  },
  {
   "cell_type": "code",
   "execution_count": 5,
   "metadata": {
    "colab": {
     "base_uri": "https://localhost:8080/",
     "height": 195
    },
    "id": "J2zQQ9VUZ-4Q",
    "outputId": "3e5c58b9-5874-4131-9aec-a3ec9bc93cca"
   },
   "outputs": [
    {
     "data": {
      "text/html": [
       "<div>\n",
       "<style scoped>\n",
       "    .dataframe tbody tr th:only-of-type {\n",
       "        vertical-align: middle;\n",
       "    }\n",
       "\n",
       "    .dataframe tbody tr th {\n",
       "        vertical-align: top;\n",
       "    }\n",
       "\n",
       "    .dataframe thead th {\n",
       "        text-align: right;\n",
       "    }\n",
       "</style>\n",
       "<table border=\"1\" class=\"dataframe\">\n",
       "  <thead>\n",
       "    <tr style=\"text-align: right;\">\n",
       "      <th></th>\n",
       "      <th>vidid</th>\n",
       "      <th>views</th>\n",
       "      <th>likes</th>\n",
       "      <th>dislikes</th>\n",
       "      <th>comment</th>\n",
       "      <th>published</th>\n",
       "      <th>duration</th>\n",
       "      <th>category</th>\n",
       "    </tr>\n",
       "  </thead>\n",
       "  <tbody>\n",
       "    <tr>\n",
       "      <th>0</th>\n",
       "      <td>VID_1054</td>\n",
       "      <td>440238</td>\n",
       "      <td>6153</td>\n",
       "      <td>218</td>\n",
       "      <td>1377</td>\n",
       "      <td>2017-02-18</td>\n",
       "      <td>PT7M29S</td>\n",
       "      <td>B</td>\n",
       "    </tr>\n",
       "    <tr>\n",
       "      <th>1</th>\n",
       "      <td>VID_18629</td>\n",
       "      <td>1040132</td>\n",
       "      <td>8171</td>\n",
       "      <td>340</td>\n",
       "      <td>1047</td>\n",
       "      <td>2016-06-28</td>\n",
       "      <td>PT6M29S</td>\n",
       "      <td>F</td>\n",
       "    </tr>\n",
       "    <tr>\n",
       "      <th>2</th>\n",
       "      <td>VID_13967</td>\n",
       "      <td>28534</td>\n",
       "      <td>31</td>\n",
       "      <td>11</td>\n",
       "      <td>1</td>\n",
       "      <td>2014-03-10</td>\n",
       "      <td>PT37M54S</td>\n",
       "      <td>D</td>\n",
       "    </tr>\n",
       "    <tr>\n",
       "      <th>3</th>\n",
       "      <td>VID_19442</td>\n",
       "      <td>1316715</td>\n",
       "      <td>2284</td>\n",
       "      <td>250</td>\n",
       "      <td>274</td>\n",
       "      <td>2010-06-05</td>\n",
       "      <td>PT9M55S</td>\n",
       "      <td>G</td>\n",
       "    </tr>\n",
       "    <tr>\n",
       "      <th>4</th>\n",
       "      <td>VID_770</td>\n",
       "      <td>1893173</td>\n",
       "      <td>2519</td>\n",
       "      <td>225</td>\n",
       "      <td>116</td>\n",
       "      <td>2016-09-03</td>\n",
       "      <td>PT3M8S</td>\n",
       "      <td>B</td>\n",
       "    </tr>\n",
       "  </tbody>\n",
       "</table>\n",
       "</div>"
      ],
      "text/plain": [
       "       vidid    views likes dislikes comment   published  duration category\n",
       "0   VID_1054   440238  6153      218    1377  2017-02-18   PT7M29S        B\n",
       "1  VID_18629  1040132  8171      340    1047  2016-06-28   PT6M29S        F\n",
       "2  VID_13967    28534    31       11       1  2014-03-10  PT37M54S        D\n",
       "3  VID_19442  1316715  2284      250     274  2010-06-05   PT9M55S        G\n",
       "4    VID_770  1893173  2519      225     116  2016-09-03    PT3M8S        B"
      ]
     },
     "execution_count": 5,
     "metadata": {
      "tags": []
     },
     "output_type": "execute_result"
    }
   ],
   "source": [
    "data_test = pd.read_csv(\"test.csv\")\n",
    "data_test.head()"
   ]
  },
  {
   "cell_type": "markdown",
   "metadata": {
    "id": "CdCsFrw3Qod4"
   },
   "source": [
    "CHECKING THE SHAPE OF THE DATASET"
   ]
  },
  {
   "cell_type": "code",
   "execution_count": 6,
   "metadata": {
    "colab": {
     "base_uri": "https://localhost:8080/"
    },
    "id": "47Vfj90OIhVy",
    "outputId": "c22c2427-afb2-4957-f8e9-4c7b913c0c06"
   },
   "outputs": [
    {
     "data": {
      "text/plain": [
       "(14999, 9)"
      ]
     },
     "execution_count": 6,
     "metadata": {
      "tags": []
     },
     "output_type": "execute_result"
    }
   ],
   "source": [
    "data_train.shape"
   ]
  },
  {
   "cell_type": "code",
   "execution_count": 7,
   "metadata": {
    "colab": {
     "base_uri": "https://localhost:8080/"
    },
    "id": "GCS2tCcGaI7x",
    "outputId": "f22458ea-c52a-4fa8-99df-6d4226c1c3f3"
   },
   "outputs": [
    {
     "data": {
      "text/plain": [
       "(8764, 8)"
      ]
     },
     "execution_count": 7,
     "metadata": {
      "tags": []
     },
     "output_type": "execute_result"
    }
   ],
   "source": [
    "data_test.shape"
   ]
  },
  {
   "cell_type": "markdown",
   "metadata": {
    "id": "bfWJF-9Qhf0J"
   },
   "source": [
    "Visualization"
   ]
  },
  {
   "cell_type": "code",
   "execution_count": 8,
   "metadata": {
    "colab": {
     "base_uri": "https://localhost:8080/",
     "height": 994
    },
    "id": "bks15uH5he-m",
    "outputId": "3b6362e6-0be8-489f-e88b-4d1e3d98f459"
   },
   "outputs": [
    {
     "data": {
      "image/png": "[encoded data removed]",
      "text/plain": [
       "<Figure size 432x288 with 1 Axes>"
      ]
     },
     "metadata": {
      "needs_background": "light",
      "tags": []
     },
     "output_type": "display_data"
    },
    {
     "data": {
      "image/png": "[encoded data removed]",
      "text/plain": [
       "<Figure size 432x288 with 1 Axes>"
      ]
     },
     "metadata": {
      "needs_background": "light",
      "tags": []
     },
     "output_type": "display_data"
    },
    {
     "data": {
      "image/png": "[encoded data removed]",
      "text/plain": [
       "<Figure size 720x576 with 2 Axes>"
      ]
     },
     "metadata": {
      "needs_background": "light",
      "tags": []
     },
     "output_type": "display_data"
    }
   ],
   "source": [
    "# Individual Plots\n",
    "plt.hist(data_train[\"category\"])\n",
    "plt.show()\n",
    "plt.plot(data_train[\"adview\"])\n",
    "plt.show()\n",
    "# Remove videos with adview greater than 2000000 as outlier\n",
    "data_train = data_train[data_train[\"adview\"] <2000000]\n",
    "# Heatmap\n",
    "import seaborn as sns\n",
    "f, ax = plt.subplots(figsize=(10, 8))\n",
    "corr = data_train.corr()\n",
    "sns.heatmap(corr, mask = np.zeros_like(corr, dtype=np.bool), cmap=sns.diverging_palette(220, 10, as_cmap=True), \n",
    "            square=True, ax=ax,annot=True)\n",
    "plt.show()"
   ]
  },
  {
   "cell_type": "code",
   "execution_count": 9,
   "metadata": {
    "colab": {
     "base_uri": "https://localhost:8080/",
     "height": 265
    },
    "id": "TvYGZYN-d8c8",
    "outputId": "6a081e5f-d1f5-4291-b22d-7d102835de12"
   },
   "outputs": [
    {
     "data": {
      "image/png": "[encoded data removed]",
      "text/plain": [
       "<Figure size 432x288 with 1 Axes>"
      ]
     },
     "metadata": {
      "needs_background": "light",
      "tags": []
     },
     "output_type": "display_data"
    }
   ],
   "source": [
    "# Individual Plots\n",
    "plt.hist(data_test[\"category\"])\n",
    "plt.show()"
   ]
  },
  {
   "cell_type": "markdown",
   "metadata": {
    "id": "5QXsis8URY3O"
   },
   "source": [
    "Removing character \"F\" present in data"
   ]
  },
  {
   "cell_type": "code",
   "execution_count": 10,
   "metadata": {
    "colab": {
     "base_uri": "https://localhost:8080/",
     "height": 195
    },
    "id": "LpUzTQN0Iyjt",
    "outputId": "c182a36c-a0a9-4fdb-cf6d-685b80e55056"
   },
   "outputs": [
    {
     "data": {
      "text/html": [
       "<div>\n",
       "<style scoped>\n",
       "    .dataframe tbody tr th:only-of-type {\n",
       "        vertical-align: middle;\n",
       "    }\n",
       "\n",
       "    .dataframe tbody tr th {\n",
       "        vertical-align: top;\n",
       "    }\n",
       "\n",
       "    .dataframe thead th {\n",
       "        text-align: right;\n",
       "    }\n",
       "</style>\n",
       "<table border=\"1\" class=\"dataframe\">\n",
       "  <thead>\n",
       "    <tr style=\"text-align: right;\">\n",
       "      <th></th>\n",
       "      <th>vidid</th>\n",
       "      <th>adview</th>\n",
       "      <th>views</th>\n",
       "      <th>likes</th>\n",
       "      <th>dislikes</th>\n",
       "      <th>comment</th>\n",
       "      <th>published</th>\n",
       "      <th>duration</th>\n",
       "      <th>category</th>\n",
       "    </tr>\n",
       "  </thead>\n",
       "  <tbody>\n",
       "    <tr>\n",
       "      <th>0</th>\n",
       "      <td>VID_18655</td>\n",
       "      <td>40</td>\n",
       "      <td>1031602</td>\n",
       "      <td>8523</td>\n",
       "      <td>363</td>\n",
       "      <td>1095</td>\n",
       "      <td>2016-09-14</td>\n",
       "      <td>PT7M37S</td>\n",
       "      <td>F</td>\n",
       "    </tr>\n",
       "    <tr>\n",
       "      <th>1</th>\n",
       "      <td>VID_14135</td>\n",
       "      <td>2</td>\n",
       "      <td>1707</td>\n",
       "      <td>56</td>\n",
       "      <td>2</td>\n",
       "      <td>6</td>\n",
       "      <td>2016-10-01</td>\n",
       "      <td>PT9M30S</td>\n",
       "      <td>D</td>\n",
       "    </tr>\n",
       "    <tr>\n",
       "      <th>2</th>\n",
       "      <td>VID_2187</td>\n",
       "      <td>1</td>\n",
       "      <td>2023</td>\n",
       "      <td>25</td>\n",
       "      <td>0</td>\n",
       "      <td>2</td>\n",
       "      <td>2016-07-02</td>\n",
       "      <td>PT2M16S</td>\n",
       "      <td>C</td>\n",
       "    </tr>\n",
       "    <tr>\n",
       "      <th>3</th>\n",
       "      <td>VID_23096</td>\n",
       "      <td>6</td>\n",
       "      <td>620860</td>\n",
       "      <td>777</td>\n",
       "      <td>161</td>\n",
       "      <td>153</td>\n",
       "      <td>2016-07-27</td>\n",
       "      <td>PT4M22S</td>\n",
       "      <td>H</td>\n",
       "    </tr>\n",
       "    <tr>\n",
       "      <th>4</th>\n",
       "      <td>VID_10175</td>\n",
       "      <td>1</td>\n",
       "      <td>666</td>\n",
       "      <td>1</td>\n",
       "      <td>0</td>\n",
       "      <td>0</td>\n",
       "      <td>2016-06-29</td>\n",
       "      <td>PT31S</td>\n",
       "      <td>D</td>\n",
       "    </tr>\n",
       "  </tbody>\n",
       "</table>\n",
       "</div>"
      ],
      "text/plain": [
       "       vidid  adview    views likes  ... comment   published duration category\n",
       "0  VID_18655      40  1031602  8523  ...    1095  2016-09-14  PT7M37S        F\n",
       "1  VID_14135       2     1707    56  ...       6  2016-10-01  PT9M30S        D\n",
       "2   VID_2187       1     2023    25  ...       2  2016-07-02  PT2M16S        C\n",
       "3  VID_23096       6   620860   777  ...     153  2016-07-27  PT4M22S        H\n",
       "4  VID_10175       1      666     1  ...       0  2016-06-29    PT31S        D\n",
       "\n",
       "[5 rows x 9 columns]"
      ]
     },
     "execution_count": 10,
     "metadata": {
      "tags": []
     },
     "output_type": "execute_result"
    }
   ],
   "source": [
    "data_train=data_train[data_train.views!='F']\n",
    "data_train=data_train[data_train.likes!='F']\n",
    "data_train=data_train[data_train.dislikes!='F']\n",
    "data_train=data_train[data_train.comment!='F']\n",
    "data_train.head()"
   ]
  },
  {
   "cell_type": "code",
   "execution_count": 11,
   "metadata": {
    "colab": {
     "base_uri": "https://localhost:8080/",
     "height": 195
    },
    "id": "iAfmGDqaehx1",
    "outputId": "93c059dd-02d2-49ae-ad61-cc972bc5efc2"
   },
   "outputs": [
    {
     "data": {
      "text/html": [
       "<div>\n",
       "<style scoped>\n",
       "    .dataframe tbody tr th:only-of-type {\n",
       "        vertical-align: middle;\n",
       "    }\n",
       "\n",
       "    .dataframe tbody tr th {\n",
       "        vertical-align: top;\n",
       "    }\n",
       "\n",
       "    .dataframe thead th {\n",
       "        text-align: right;\n",
       "    }\n",
       "</style>\n",
       "<table border=\"1\" class=\"dataframe\">\n",
       "  <thead>\n",
       "    <tr style=\"text-align: right;\">\n",
       "      <th></th>\n",
       "      <th>vidid</th>\n",
       "      <th>views</th>\n",
       "      <th>likes</th>\n",
       "      <th>dislikes</th>\n",
       "      <th>comment</th>\n",
       "      <th>published</th>\n",
       "      <th>duration</th>\n",
       "      <th>category</th>\n",
       "    </tr>\n",
       "  </thead>\n",
       "  <tbody>\n",
       "    <tr>\n",
       "      <th>0</th>\n",
       "      <td>VID_1054</td>\n",
       "      <td>440238</td>\n",
       "      <td>6153</td>\n",
       "      <td>218</td>\n",
       "      <td>1377</td>\n",
       "      <td>2017-02-18</td>\n",
       "      <td>PT7M29S</td>\n",
       "      <td>B</td>\n",
       "    </tr>\n",
       "    <tr>\n",
       "      <th>1</th>\n",
       "      <td>VID_18629</td>\n",
       "      <td>1040132</td>\n",
       "      <td>8171</td>\n",
       "      <td>340</td>\n",
       "      <td>1047</td>\n",
       "      <td>2016-06-28</td>\n",
       "      <td>PT6M29S</td>\n",
       "      <td>F</td>\n",
       "    </tr>\n",
       "    <tr>\n",
       "      <th>2</th>\n",
       "      <td>VID_13967</td>\n",
       "      <td>28534</td>\n",
       "      <td>31</td>\n",
       "      <td>11</td>\n",
       "      <td>1</td>\n",
       "      <td>2014-03-10</td>\n",
       "      <td>PT37M54S</td>\n",
       "      <td>D</td>\n",
       "    </tr>\n",
       "    <tr>\n",
       "      <th>3</th>\n",
       "      <td>VID_19442</td>\n",
       "      <td>1316715</td>\n",
       "      <td>2284</td>\n",
       "      <td>250</td>\n",
       "      <td>274</td>\n",
       "      <td>2010-06-05</td>\n",
       "      <td>PT9M55S</td>\n",
       "      <td>G</td>\n",
       "    </tr>\n",
       "    <tr>\n",
       "      <th>4</th>\n",
       "      <td>VID_770</td>\n",
       "      <td>1893173</td>\n",
       "      <td>2519</td>\n",
       "      <td>225</td>\n",
       "      <td>116</td>\n",
       "      <td>2016-09-03</td>\n",
       "      <td>PT3M8S</td>\n",
       "      <td>B</td>\n",
       "    </tr>\n",
       "  </tbody>\n",
       "</table>\n",
       "</div>"
      ],
      "text/plain": [
       "       vidid    views likes dislikes comment   published  duration category\n",
       "0   VID_1054   440238  6153      218    1377  2017-02-18   PT7M29S        B\n",
       "1  VID_18629  1040132  8171      340    1047  2016-06-28   PT6M29S        F\n",
       "2  VID_13967    28534    31       11       1  2014-03-10  PT37M54S        D\n",
       "3  VID_19442  1316715  2284      250     274  2010-06-05   PT9M55S        G\n",
       "4    VID_770  1893173  2519      225     116  2016-09-03    PT3M8S        B"
      ]
     },
     "execution_count": 11,
     "metadata": {
      "tags": []
     },
     "output_type": "execute_result"
    }
   ],
   "source": [
    "data_test=data_test[data_test.views!='F']\n",
    "data_test=data_test[data_test.likes!='F']\n",
    "data_test=data_test[data_test.dislikes!='F']\n",
    "data_test=data_test[data_test.comment!='F']\n",
    "data_test.head()"
   ]
  },
  {
   "cell_type": "markdown",
   "metadata": {
    "id": "2ZUYlDu6Rd4-"
   },
   "source": [
    "Assigning each category a number for Category feature"
   ]
  },
  {
   "cell_type": "code",
   "execution_count": 12,
   "metadata": {
    "colab": {
     "base_uri": "https://localhost:8080/",
     "height": 195
    },
    "id": "vYO9SiNRL6A-",
    "outputId": "f38977c3-b051-4043-c3b1-60d6a0bcb9e8"
   },
   "outputs": [
    {
     "data": {
      "text/html": [
       "<div>\n",
       "<style scoped>\n",
       "    .dataframe tbody tr th:only-of-type {\n",
       "        vertical-align: middle;\n",
       "    }\n",
       "\n",
       "    .dataframe tbody tr th {\n",
       "        vertical-align: top;\n",
       "    }\n",
       "\n",
       "    .dataframe thead th {\n",
       "        text-align: right;\n",
       "    }\n",
       "</style>\n",
       "<table border=\"1\" class=\"dataframe\">\n",
       "  <thead>\n",
       "    <tr style=\"text-align: right;\">\n",
       "      <th></th>\n",
       "      <th>vidid</th>\n",
       "      <th>adview</th>\n",
       "      <th>views</th>\n",
       "      <th>likes</th>\n",
       "      <th>dislikes</th>\n",
       "      <th>comment</th>\n",
       "      <th>published</th>\n",
       "      <th>duration</th>\n",
       "      <th>category</th>\n",
       "    </tr>\n",
       "  </thead>\n",
       "  <tbody>\n",
       "    <tr>\n",
       "      <th>0</th>\n",
       "      <td>VID_18655</td>\n",
       "      <td>40</td>\n",
       "      <td>1031602</td>\n",
       "      <td>8523</td>\n",
       "      <td>363</td>\n",
       "      <td>1095</td>\n",
       "      <td>2016-09-14</td>\n",
       "      <td>PT7M37S</td>\n",
       "      <td>6</td>\n",
       "    </tr>\n",
       "    <tr>\n",
       "      <th>1</th>\n",
       "      <td>VID_14135</td>\n",
       "      <td>2</td>\n",
       "      <td>1707</td>\n",
       "      <td>56</td>\n",
       "      <td>2</td>\n",
       "      <td>6</td>\n",
       "      <td>2016-10-01</td>\n",
       "      <td>PT9M30S</td>\n",
       "      <td>4</td>\n",
       "    </tr>\n",
       "    <tr>\n",
       "      <th>2</th>\n",
       "      <td>VID_2187</td>\n",
       "      <td>1</td>\n",
       "      <td>2023</td>\n",
       "      <td>25</td>\n",
       "      <td>0</td>\n",
       "      <td>2</td>\n",
       "      <td>2016-07-02</td>\n",
       "      <td>PT2M16S</td>\n",
       "      <td>3</td>\n",
       "    </tr>\n",
       "    <tr>\n",
       "      <th>3</th>\n",
       "      <td>VID_23096</td>\n",
       "      <td>6</td>\n",
       "      <td>620860</td>\n",
       "      <td>777</td>\n",
       "      <td>161</td>\n",
       "      <td>153</td>\n",
       "      <td>2016-07-27</td>\n",
       "      <td>PT4M22S</td>\n",
       "      <td>8</td>\n",
       "    </tr>\n",
       "    <tr>\n",
       "      <th>4</th>\n",
       "      <td>VID_10175</td>\n",
       "      <td>1</td>\n",
       "      <td>666</td>\n",
       "      <td>1</td>\n",
       "      <td>0</td>\n",
       "      <td>0</td>\n",
       "      <td>2016-06-29</td>\n",
       "      <td>PT31S</td>\n",
       "      <td>4</td>\n",
       "    </tr>\n",
       "  </tbody>\n",
       "</table>\n",
       "</div>"
      ],
      "text/plain": [
       "       vidid  adview    views likes  ... comment   published duration category\n",
       "0  VID_18655      40  1031602  8523  ...    1095  2016-09-14  PT7M37S        6\n",
       "1  VID_14135       2     1707    56  ...       6  2016-10-01  PT9M30S        4\n",
       "2   VID_2187       1     2023    25  ...       2  2016-07-02  PT2M16S        3\n",
       "3  VID_23096       6   620860   777  ...     153  2016-07-27  PT4M22S        8\n",
       "4  VID_10175       1      666     1  ...       0  2016-06-29    PT31S        4\n",
       "\n",
       "[5 rows x 9 columns]"
      ]
     },
     "execution_count": 12,
     "metadata": {
      "tags": []
     },
     "output_type": "execute_result"
    }
   ],
   "source": [
    "category={'A': 1,'B':2,'C':3,'D':4,'E':5,'F':6,'G':7,'H':8}\n",
    "data_train[\"category\"]=data_train[\"category\"].map(category)\n",
    "data_train.head()"
   ]
  },
  {
   "cell_type": "code",
   "execution_count": 13,
   "metadata": {
    "colab": {
     "base_uri": "https://localhost:8080/",
     "height": 195
    },
    "id": "-S4Iie2feshP",
    "outputId": "fa29b84e-0066-497a-9842-6cfee4224200"
   },
   "outputs": [
    {
     "data": {
      "text/html": [
       "<div>\n",
       "<style scoped>\n",
       "    .dataframe tbody tr th:only-of-type {\n",
       "        vertical-align: middle;\n",
       "    }\n",
       "\n",
       "    .dataframe tbody tr th {\n",
       "        vertical-align: top;\n",
       "    }\n",
       "\n",
       "    .dataframe thead th {\n",
       "        text-align: right;\n",
       "    }\n",
       "</style>\n",
       "<table border=\"1\" class=\"dataframe\">\n",
       "  <thead>\n",
       "    <tr style=\"text-align: right;\">\n",
       "      <th></th>\n",
       "      <th>vidid</th>\n",
       "      <th>views</th>\n",
       "      <th>likes</th>\n",
       "      <th>dislikes</th>\n",
       "      <th>comment</th>\n",
       "      <th>published</th>\n",
       "      <th>duration</th>\n",
       "      <th>category</th>\n",
       "    </tr>\n",
       "  </thead>\n",
       "  <tbody>\n",
       "    <tr>\n",
       "      <th>0</th>\n",
       "      <td>VID_1054</td>\n",
       "      <td>440238</td>\n",
       "      <td>6153</td>\n",
       "      <td>218</td>\n",
       "      <td>1377</td>\n",
       "      <td>2017-02-18</td>\n",
       "      <td>PT7M29S</td>\n",
       "      <td>2</td>\n",
       "    </tr>\n",
       "    <tr>\n",
       "      <th>1</th>\n",
       "      <td>VID_18629</td>\n",
       "      <td>1040132</td>\n",
       "      <td>8171</td>\n",
       "      <td>340</td>\n",
       "      <td>1047</td>\n",
       "      <td>2016-06-28</td>\n",
       "      <td>PT6M29S</td>\n",
       "      <td>6</td>\n",
       "    </tr>\n",
       "    <tr>\n",
       "      <th>2</th>\n",
       "      <td>VID_13967</td>\n",
       "      <td>28534</td>\n",
       "      <td>31</td>\n",
       "      <td>11</td>\n",
       "      <td>1</td>\n",
       "      <td>2014-03-10</td>\n",
       "      <td>PT37M54S</td>\n",
       "      <td>4</td>\n",
       "    </tr>\n",
       "    <tr>\n",
       "      <th>3</th>\n",
       "      <td>VID_19442</td>\n",
       "      <td>1316715</td>\n",
       "      <td>2284</td>\n",
       "      <td>250</td>\n",
       "      <td>274</td>\n",
       "      <td>2010-06-05</td>\n",
       "      <td>PT9M55S</td>\n",
       "      <td>7</td>\n",
       "    </tr>\n",
       "    <tr>\n",
       "      <th>4</th>\n",
       "      <td>VID_770</td>\n",
       "      <td>1893173</td>\n",
       "      <td>2519</td>\n",
       "      <td>225</td>\n",
       "      <td>116</td>\n",
       "      <td>2016-09-03</td>\n",
       "      <td>PT3M8S</td>\n",
       "      <td>2</td>\n",
       "    </tr>\n",
       "  </tbody>\n",
       "</table>\n",
       "</div>"
      ],
      "text/plain": [
       "       vidid    views likes dislikes comment   published  duration  category\n",
       "0   VID_1054   440238  6153      218    1377  2017-02-18   PT7M29S         2\n",
       "1  VID_18629  1040132  8171      340    1047  2016-06-28   PT6M29S         6\n",
       "2  VID_13967    28534    31       11       1  2014-03-10  PT37M54S         4\n",
       "3  VID_19442  1316715  2284      250     274  2010-06-05   PT9M55S         7\n",
       "4    VID_770  1893173  2519      225     116  2016-09-03    PT3M8S         2"
      ]
     },
     "execution_count": 13,
     "metadata": {
      "tags": []
     },
     "output_type": "execute_result"
    }
   ],
   "source": [
    "category={'A': 1,'B':2,'C':3,'D':4,'E':5,'F':6,'G':7,'H':8}\n",
    "data_test[\"category\"]=data_test[\"category\"].map(category)\n",
    "data_test.head()"
   ]
  },
  {
   "cell_type": "markdown",
   "metadata": {
    "id": "2fk-N11fRoEb"
   },
   "source": [
    "Converting values to integers for views, likes, comments, dislikes and adview"
   ]
  },
  {
   "cell_type": "code",
   "execution_count": 14,
   "metadata": {
    "id": "kuc2VdxbL83P"
   },
   "outputs": [],
   "source": [
    "data_train[\"views\"] = pd.to_numeric(data_train[\"views\"])\n",
    "data_train[\"comment\"] = pd.to_numeric(data_train[\"comment\"])\n",
    "data_train[\"likes\"] = pd.to_numeric(data_train[\"likes\"])\n",
    "data_train[\"dislikes\"] = pd.to_numeric(data_train[\"dislikes\"])\n",
    "data_train[\"adview\"]=pd.to_numeric(data_train[\"adview\"])\n",
    "column_vidid=data_train['vidid']"
   ]
  },
  {
   "cell_type": "code",
   "execution_count": 15,
   "metadata": {
    "id": "6trqFAT0e1kE"
   },
   "outputs": [],
   "source": [
    "data_test[\"views\"] = pd.to_numeric(data_test[\"views\"])\n",
    "data_test[\"comment\"] = pd.to_numeric(data_test[\"comment\"])\n",
    "data_test[\"likes\"] = pd.to_numeric(data_test[\"likes\"])\n",
    "data_test[\"dislikes\"] = pd.to_numeric(data_test[\"dislikes\"])\n",
    "column_vidid1=data_test['vidid']"
   ]
  },
  {
   "cell_type": "markdown",
   "metadata": {
    "id": "TppFX9g4SBUQ"
   },
   "source": [
    "Encoding features like Category, Duration, Vidid"
   ]
  },
  {
   "cell_type": "code",
   "execution_count": 16,
   "metadata": {
    "colab": {
     "base_uri": "https://localhost:8080/",
     "height": 195
    },
    "id": "BUSU8c8YMPwC",
    "outputId": "e3ef0c74-b953-47b9-fb36-ad168be423c6"
   },
   "outputs": [
    {
     "data": {
      "text/html": [
       "<div>\n",
       "<style scoped>\n",
       "    .dataframe tbody tr th:only-of-type {\n",
       "        vertical-align: middle;\n",
       "    }\n",
       "\n",
       "    .dataframe tbody tr th {\n",
       "        vertical-align: top;\n",
       "    }\n",
       "\n",
       "    .dataframe thead th {\n",
       "        text-align: right;\n",
       "    }\n",
       "</style>\n",
       "<table border=\"1\" class=\"dataframe\">\n",
       "  <thead>\n",
       "    <tr style=\"text-align: right;\">\n",
       "      <th></th>\n",
       "      <th>vidid</th>\n",
       "      <th>adview</th>\n",
       "      <th>views</th>\n",
       "      <th>likes</th>\n",
       "      <th>dislikes</th>\n",
       "      <th>comment</th>\n",
       "      <th>published</th>\n",
       "      <th>duration</th>\n",
       "      <th>category</th>\n",
       "    </tr>\n",
       "  </thead>\n",
       "  <tbody>\n",
       "    <tr>\n",
       "      <th>0</th>\n",
       "      <td>5912</td>\n",
       "      <td>40</td>\n",
       "      <td>1031602</td>\n",
       "      <td>8523</td>\n",
       "      <td>363</td>\n",
       "      <td>1095</td>\n",
       "      <td>2168</td>\n",
       "      <td>2925</td>\n",
       "      <td>6</td>\n",
       "    </tr>\n",
       "    <tr>\n",
       "      <th>1</th>\n",
       "      <td>2741</td>\n",
       "      <td>2</td>\n",
       "      <td>1707</td>\n",
       "      <td>56</td>\n",
       "      <td>2</td>\n",
       "      <td>6</td>\n",
       "      <td>2185</td>\n",
       "      <td>3040</td>\n",
       "      <td>4</td>\n",
       "    </tr>\n",
       "    <tr>\n",
       "      <th>2</th>\n",
       "      <td>8138</td>\n",
       "      <td>1</td>\n",
       "      <td>2023</td>\n",
       "      <td>25</td>\n",
       "      <td>0</td>\n",
       "      <td>2</td>\n",
       "      <td>2094</td>\n",
       "      <td>1863</td>\n",
       "      <td>3</td>\n",
       "    </tr>\n",
       "    <tr>\n",
       "      <th>3</th>\n",
       "      <td>9004</td>\n",
       "      <td>6</td>\n",
       "      <td>620860</td>\n",
       "      <td>777</td>\n",
       "      <td>161</td>\n",
       "      <td>153</td>\n",
       "      <td>2119</td>\n",
       "      <td>2546</td>\n",
       "      <td>8</td>\n",
       "    </tr>\n",
       "    <tr>\n",
       "      <th>4</th>\n",
       "      <td>122</td>\n",
       "      <td>1</td>\n",
       "      <td>666</td>\n",
       "      <td>1</td>\n",
       "      <td>0</td>\n",
       "      <td>0</td>\n",
       "      <td>2091</td>\n",
       "      <td>1963</td>\n",
       "      <td>4</td>\n",
       "    </tr>\n",
       "  </tbody>\n",
       "</table>\n",
       "</div>"
      ],
      "text/plain": [
       "   vidid  adview    views  likes  ...  comment  published  duration  category\n",
       "0   5912      40  1031602   8523  ...     1095       2168      2925         6\n",
       "1   2741       2     1707     56  ...        6       2185      3040         4\n",
       "2   8138       1     2023     25  ...        2       2094      1863         3\n",
       "3   9004       6   620860    777  ...      153       2119      2546         8\n",
       "4    122       1      666      1  ...        0       2091      1963         4\n",
       "\n",
       "[5 rows x 9 columns]"
      ]
     },
     "execution_count": 16,
     "metadata": {
      "tags": []
     },
     "output_type": "execute_result"
    }
   ],
   "source": [
    "from sklearn.preprocessing import LabelEncoder\n",
    "data_train['duration']=LabelEncoder().fit_transform(data_train['duration'])\n",
    "data_train['vidid']=LabelEncoder().fit_transform(data_train['vidid'])\n",
    "data_train['published']=LabelEncoder().fit_transform(data_train['published'])\n",
    "data_train.head()"
   ]
  },
  {
   "cell_type": "code",
   "execution_count": 17,
   "metadata": {
    "colab": {
     "base_uri": "https://localhost:8080/",
     "height": 195
    },
    "id": "pxpBn3dAfKwI",
    "outputId": "651feb95-547d-42b3-d92d-07b59e205b0a"
   },
   "outputs": [
    {
     "data": {
      "text/html": [
       "<div>\n",
       "<style scoped>\n",
       "    .dataframe tbody tr th:only-of-type {\n",
       "        vertical-align: middle;\n",
       "    }\n",
       "\n",
       "    .dataframe tbody tr th {\n",
       "        vertical-align: top;\n",
       "    }\n",
       "\n",
       "    .dataframe thead th {\n",
       "        text-align: right;\n",
       "    }\n",
       "</style>\n",
       "<table border=\"1\" class=\"dataframe\">\n",
       "  <thead>\n",
       "    <tr style=\"text-align: right;\">\n",
       "      <th></th>\n",
       "      <th>vidid</th>\n",
       "      <th>views</th>\n",
       "      <th>likes</th>\n",
       "      <th>dislikes</th>\n",
       "      <th>comment</th>\n",
       "      <th>published</th>\n",
       "      <th>duration</th>\n",
       "      <th>category</th>\n",
       "    </tr>\n",
       "  </thead>\n",
       "  <tbody>\n",
       "    <tr>\n",
       "      <th>0</th>\n",
       "      <td>231</td>\n",
       "      <td>440238</td>\n",
       "      <td>6153</td>\n",
       "      <td>218</td>\n",
       "      <td>1377</td>\n",
       "      <td>2053</td>\n",
       "      <td>2115</td>\n",
       "      <td>2</td>\n",
       "    </tr>\n",
       "    <tr>\n",
       "      <th>1</th>\n",
       "      <td>3444</td>\n",
       "      <td>1040132</td>\n",
       "      <td>8171</td>\n",
       "      <td>340</td>\n",
       "      <td>1047</td>\n",
       "      <td>1825</td>\n",
       "      <td>2055</td>\n",
       "      <td>6</td>\n",
       "    </tr>\n",
       "    <tr>\n",
       "      <th>2</th>\n",
       "      <td>1593</td>\n",
       "      <td>28534</td>\n",
       "      <td>31</td>\n",
       "      <td>11</td>\n",
       "      <td>1</td>\n",
       "      <td>1009</td>\n",
       "      <td>1506</td>\n",
       "      <td>4</td>\n",
       "    </tr>\n",
       "    <tr>\n",
       "      <th>3</th>\n",
       "      <td>3775</td>\n",
       "      <td>1316715</td>\n",
       "      <td>2284</td>\n",
       "      <td>250</td>\n",
       "      <td>274</td>\n",
       "      <td>116</td>\n",
       "      <td>2265</td>\n",
       "      <td>7</td>\n",
       "    </tr>\n",
       "    <tr>\n",
       "      <th>4</th>\n",
       "      <td>7644</td>\n",
       "      <td>1893173</td>\n",
       "      <td>2519</td>\n",
       "      <td>225</td>\n",
       "      <td>116</td>\n",
       "      <td>1892</td>\n",
       "      <td>1625</td>\n",
       "      <td>2</td>\n",
       "    </tr>\n",
       "  </tbody>\n",
       "</table>\n",
       "</div>"
      ],
      "text/plain": [
       "   vidid    views  likes  dislikes  comment  published  duration  category\n",
       "0    231   440238   6153       218     1377       2053      2115         2\n",
       "1   3444  1040132   8171       340     1047       1825      2055         6\n",
       "2   1593    28534     31        11        1       1009      1506         4\n",
       "3   3775  1316715   2284       250      274        116      2265         7\n",
       "4   7644  1893173   2519       225      116       1892      1625         2"
      ]
     },
     "execution_count": 17,
     "metadata": {
      "tags": []
     },
     "output_type": "execute_result"
    }
   ],
   "source": [
    "from sklearn.preprocessing import LabelEncoder\n",
    "data_test['duration']=LabelEncoder().fit_transform(data_test['duration'])\n",
    "data_test['vidid']=LabelEncoder().fit_transform(data_test['vidid'])\n",
    "data_test['published']=LabelEncoder().fit_transform(data_test['published'])\n",
    "data_test.head()"
   ]
  },
  {
   "cell_type": "markdown",
   "metadata": {
    "id": "UR98YJFzQuRN"
   },
   "source": [
    "Visualization"
   ]
  },
  {
   "cell_type": "code",
   "execution_count": 18,
   "metadata": {
    "colab": {
     "base_uri": "https://localhost:8080/",
     "height": 994
    },
    "id": "q_i7H1M-Ilfg",
    "outputId": "317ac9b6-be10-4d03-a538-f3e22078bd77"
   },
   "outputs": [
    {
     "data": {
      "image/png": "[encoded data removed]",
      "text/plain": [
       "<Figure size 432x288 with 1 Axes>"
      ]
     },
     "metadata": {
      "needs_background": "light",
      "tags": []
     },
     "output_type": "display_data"
    },
    {
     "data": {
      "image/png": "[encoded data removed]",
      "text/plain": [
       "<Figure size 432x288 with 1 Axes>"
      ]
     },
     "metadata": {
      "needs_background": "light",
      "tags": []
     },
     "output_type": "display_data"
    },
    {
     "data": {
      "image/png": "[encoded data removed]",
      "text/plain": [
       "<Figure size 720x576 with 2 Axes>"
      ]
     },
     "metadata": {
      "needs_background": "light",
      "tags": []
     },
     "output_type": "display_data"
    }
   ],
   "source": [
    "# Individual Plots\n",
    "plt.hist(data_train[\"category\"])\n",
    "plt.show()\n",
    "plt.plot(data_train[\"adview\"])\n",
    "plt.show()\n",
    "# Remove videos with adview greater than 2000000 as outlier\n",
    "data_train = data_train[data_train[\"adview\"] <2000000]\n",
    "# Heatmap\n",
    "import seaborn as sns\n",
    "f, ax = plt.subplots(figsize=(10, 8))\n",
    "corr = data_train.corr()\n",
    "sns.heatmap(corr, mask = np.zeros_like(corr, dtype=np.bool), cmap=sns.diverging_palette(220, 10, as_cmap=True), \n",
    "            square=True, ax=ax,annot=True)\n",
    "plt.show()"
   ]
  },
  {
   "cell_type": "code",
   "execution_count": 19,
   "metadata": {
    "colab": {
     "base_uri": "https://localhost:8080/",
     "height": 265
    },
    "id": "VYnBilTRfXm0",
    "outputId": "6c6517cf-a100-4515-8586-eee1adf17934"
   },
   "outputs": [
    {
     "data": {
      "image/png": "[encoded data removed]",
      "text/plain": [
       "<Figure size 432x288 with 1 Axes>"
      ]
     },
     "metadata": {
      "needs_background": "light",
      "tags": []
     },
     "output_type": "display_data"
    }
   ],
   "source": [
    "# Individual Plots\n",
    "plt.hist(data_test[\"category\"])\n",
    "plt.show()"
   ]
  },
  {
   "cell_type": "markdown",
   "metadata": {
    "id": "KeQW7vhYSI_-"
   },
   "source": [
    "Converting Time_in_sec for duration"
   ]
  },
  {
   "cell_type": "code",
   "execution_count": 20,
   "metadata": {
    "colab": {
     "base_uri": "https://localhost:8080/",
     "height": 195
    },
    "id": "CYCfze1oMZxe",
    "outputId": "e4519712-311b-49b0-d5b1-593e2078abdc"
   },
   "outputs": [
    {
     "data": {
      "text/html": [
       "<div>\n",
       "<style scoped>\n",
       "    .dataframe tbody tr th:only-of-type {\n",
       "        vertical-align: middle;\n",
       "    }\n",
       "\n",
       "    .dataframe tbody tr th {\n",
       "        vertical-align: top;\n",
       "    }\n",
       "\n",
       "    .dataframe thead th {\n",
       "        text-align: right;\n",
       "    }\n",
       "</style>\n",
       "<table border=\"1\" class=\"dataframe\">\n",
       "  <thead>\n",
       "    <tr style=\"text-align: right;\">\n",
       "      <th></th>\n",
       "      <th>vidid</th>\n",
       "      <th>adview</th>\n",
       "      <th>views</th>\n",
       "      <th>likes</th>\n",
       "      <th>dislikes</th>\n",
       "      <th>comment</th>\n",
       "      <th>published</th>\n",
       "      <th>duration</th>\n",
       "      <th>category</th>\n",
       "    </tr>\n",
       "  </thead>\n",
       "  <tbody>\n",
       "    <tr>\n",
       "      <th>0</th>\n",
       "      <td>5912</td>\n",
       "      <td>40</td>\n",
       "      <td>1031602</td>\n",
       "      <td>8523</td>\n",
       "      <td>363</td>\n",
       "      <td>1095</td>\n",
       "      <td>2168</td>\n",
       "      <td>2925</td>\n",
       "      <td>6</td>\n",
       "    </tr>\n",
       "    <tr>\n",
       "      <th>1</th>\n",
       "      <td>2741</td>\n",
       "      <td>2</td>\n",
       "      <td>1707</td>\n",
       "      <td>56</td>\n",
       "      <td>2</td>\n",
       "      <td>6</td>\n",
       "      <td>2185</td>\n",
       "      <td>3040</td>\n",
       "      <td>4</td>\n",
       "    </tr>\n",
       "    <tr>\n",
       "      <th>2</th>\n",
       "      <td>8138</td>\n",
       "      <td>1</td>\n",
       "      <td>2023</td>\n",
       "      <td>25</td>\n",
       "      <td>0</td>\n",
       "      <td>2</td>\n",
       "      <td>2094</td>\n",
       "      <td>1863</td>\n",
       "      <td>3</td>\n",
       "    </tr>\n",
       "    <tr>\n",
       "      <th>3</th>\n",
       "      <td>9004</td>\n",
       "      <td>6</td>\n",
       "      <td>620860</td>\n",
       "      <td>777</td>\n",
       "      <td>161</td>\n",
       "      <td>153</td>\n",
       "      <td>2119</td>\n",
       "      <td>2546</td>\n",
       "      <td>8</td>\n",
       "    </tr>\n",
       "    <tr>\n",
       "      <th>4</th>\n",
       "      <td>122</td>\n",
       "      <td>1</td>\n",
       "      <td>666</td>\n",
       "      <td>1</td>\n",
       "      <td>0</td>\n",
       "      <td>0</td>\n",
       "      <td>2091</td>\n",
       "      <td>1963</td>\n",
       "      <td>4</td>\n",
       "    </tr>\n",
       "  </tbody>\n",
       "</table>\n",
       "</div>"
      ],
      "text/plain": [
       "   vidid  adview    views  likes  ...  comment  published  duration  category\n",
       "0   5912      40  1031602   8523  ...     1095       2168      2925         6\n",
       "1   2741       2     1707     56  ...        6       2185      3040         4\n",
       "2   8138       1     2023     25  ...        2       2094      1863         3\n",
       "3   9004       6   620860    777  ...      153       2119      2546         8\n",
       "4    122       1      666      1  ...        0       2091      1963         4\n",
       "\n",
       "[5 rows x 9 columns]"
      ]
     },
     "execution_count": 20,
     "metadata": {
      "tags": []
     },
     "output_type": "execute_result"
    }
   ],
   "source": [
    "import datetime\n",
    "import time\n",
    "\n",
    "\n",
    "def checki(x):\n",
    "  y = x[2:]\n",
    "  h = ''\n",
    "  m = ''\n",
    "  s = ''\n",
    "  mm = ''\n",
    "  P = ['H','M','S']\n",
    "  for i in y:\n",
    "    if i not in P:\n",
    "      mm+=i\n",
    "    else:\n",
    "      if(i==\"H\"):\n",
    "        h = mm\n",
    "        mm = ''\n",
    "      elif(i == \"M\"):\n",
    "        m = mm\n",
    "        mm = ''\n",
    "      else:\n",
    "        s = mm\n",
    "        mm = ''\n",
    "  if(h==''):\n",
    "    h = '00'\n",
    "  if(m == ''):\n",
    "    m = '00'\n",
    "  if(s==''):\n",
    "    s='00'\n",
    "  bp = h+':'+m+':'+s\n",
    "  return bp\n",
    "  train=pd.read_csv(\"train.csv\")\n",
    "  mp = pd.read_csv(path + \"train.csv\")[\"duration\"]\n",
    "  time = mp.apply(checki)\n",
    "  \n",
    "  def func_sec(time_string):\n",
    "    h, m, s = time_string.split(':')\n",
    "    return int(h) * 3600 + int(m) * 60 + int(s)\n",
    "\n",
    "  time1=time.apply(func_sec)\n",
    "\n",
    "  data_train[\"duration\"]=time1\n",
    "data_train.head()"
   ]
  },
  {
   "cell_type": "code",
   "execution_count": 21,
   "metadata": {
    "colab": {
     "base_uri": "https://localhost:8080/",
     "height": 195
    },
    "id": "wV9WrTDrfpGU",
    "outputId": "650ca805-e0ed-484a-f3e8-686f69c74fd8"
   },
   "outputs": [
    {
     "data": {
      "text/html": [
       "<div>\n",
       "<style scoped>\n",
       "    .dataframe tbody tr th:only-of-type {\n",
       "        vertical-align: middle;\n",
       "    }\n",
       "\n",
       "    .dataframe tbody tr th {\n",
       "        vertical-align: top;\n",
       "    }\n",
       "\n",
       "    .dataframe thead th {\n",
       "        text-align: right;\n",
       "    }\n",
       "</style>\n",
       "<table border=\"1\" class=\"dataframe\">\n",
       "  <thead>\n",
       "    <tr style=\"text-align: right;\">\n",
       "      <th></th>\n",
       "      <th>vidid</th>\n",
       "      <th>views</th>\n",
       "      <th>likes</th>\n",
       "      <th>dislikes</th>\n",
       "      <th>comment</th>\n",
       "      <th>published</th>\n",
       "      <th>duration</th>\n",
       "      <th>category</th>\n",
       "    </tr>\n",
       "  </thead>\n",
       "  <tbody>\n",
       "    <tr>\n",
       "      <th>0</th>\n",
       "      <td>231</td>\n",
       "      <td>440238</td>\n",
       "      <td>6153</td>\n",
       "      <td>218</td>\n",
       "      <td>1377</td>\n",
       "      <td>2053</td>\n",
       "      <td>2115</td>\n",
       "      <td>2</td>\n",
       "    </tr>\n",
       "    <tr>\n",
       "      <th>1</th>\n",
       "      <td>3444</td>\n",
       "      <td>1040132</td>\n",
       "      <td>8171</td>\n",
       "      <td>340</td>\n",
       "      <td>1047</td>\n",
       "      <td>1825</td>\n",
       "      <td>2055</td>\n",
       "      <td>6</td>\n",
       "    </tr>\n",
       "    <tr>\n",
       "      <th>2</th>\n",
       "      <td>1593</td>\n",
       "      <td>28534</td>\n",
       "      <td>31</td>\n",
       "      <td>11</td>\n",
       "      <td>1</td>\n",
       "      <td>1009</td>\n",
       "      <td>1506</td>\n",
       "      <td>4</td>\n",
       "    </tr>\n",
       "    <tr>\n",
       "      <th>3</th>\n",
       "      <td>3775</td>\n",
       "      <td>1316715</td>\n",
       "      <td>2284</td>\n",
       "      <td>250</td>\n",
       "      <td>274</td>\n",
       "      <td>116</td>\n",
       "      <td>2265</td>\n",
       "      <td>7</td>\n",
       "    </tr>\n",
       "    <tr>\n",
       "      <th>4</th>\n",
       "      <td>7644</td>\n",
       "      <td>1893173</td>\n",
       "      <td>2519</td>\n",
       "      <td>225</td>\n",
       "      <td>116</td>\n",
       "      <td>1892</td>\n",
       "      <td>1625</td>\n",
       "      <td>2</td>\n",
       "    </tr>\n",
       "  </tbody>\n",
       "</table>\n",
       "</div>"
      ],
      "text/plain": [
       "   vidid    views  likes  dislikes  comment  published  duration  category\n",
       "0    231   440238   6153       218     1377       2053      2115         2\n",
       "1   3444  1040132   8171       340     1047       1825      2055         6\n",
       "2   1593    28534     31        11        1       1009      1506         4\n",
       "3   3775  1316715   2284       250      274        116      2265         7\n",
       "4   7644  1893173   2519       225      116       1892      1625         2"
      ]
     },
     "execution_count": 21,
     "metadata": {
      "tags": []
     },
     "output_type": "execute_result"
    }
   ],
   "source": [
    "import datetime\n",
    "import time\n",
    "\n",
    "def checki(x):\n",
    "  y = x[2:]\n",
    "  h = ''\n",
    "  m = ''\n",
    "  s = ''\n",
    "  mm = ''\n",
    "  P = ['H','M','S']\n",
    "  for i in y:\n",
    "    if i not in P:\n",
    "      mm+=i\n",
    "    else:\n",
    "      if(i==\"H\"):\n",
    "        h = mm\n",
    "        mm = ''\n",
    "      elif(i == \"M\"):\n",
    "        m = mm\n",
    "        mm = ''\n",
    "      else:\n",
    "        s = mm\n",
    "        mm = ''\n",
    "  if(h==''):\n",
    "    h = '00'\n",
    "  if(m == ''):\n",
    "    m = '00'\n",
    "  if(s==''):\n",
    "    s='00'\n",
    "  bp = h+':'+m+':'+s\n",
    "  return bp\n",
    "  test=pd.read_csv(\"test.csv\")\n",
    "  mp = pd.read_csv(path + \"test.csv\")[\"duration\"]\n",
    "  time = mp.apply(checki)\n",
    "  \n",
    "  def func_sec(time_string):\n",
    "    h, m, s = time_string.split(':')\n",
    "    return int(h) * 3600 + int(m) * 60 + int(s)\n",
    "\n",
    "  time1=time.apply(func_sec)\n",
    "\n",
    "  data_test[\"duration\"]=time1\n",
    "data_test.head()"
   ]
  },
  {
   "cell_type": "markdown",
   "metadata": {
    "id": "967FZ2tRSQ-N"
   },
   "source": [
    "Spliting Data"
   ]
  },
  {
   "cell_type": "code",
   "execution_count": 22,
   "metadata": {
    "colab": {
     "base_uri": "https://localhost:8080/",
     "height": 195
    },
    "id": "4xoYoWtpMawA",
    "outputId": "fc260887-00b4-4496-b17d-65215aa5e564"
   },
   "outputs": [
    {
     "data": {
      "text/html": [
       "<div>\n",
       "<style scoped>\n",
       "    .dataframe tbody tr th:only-of-type {\n",
       "        vertical-align: middle;\n",
       "    }\n",
       "\n",
       "    .dataframe tbody tr th {\n",
       "        vertical-align: top;\n",
       "    }\n",
       "\n",
       "    .dataframe thead th {\n",
       "        text-align: right;\n",
       "    }\n",
       "</style>\n",
       "<table border=\"1\" class=\"dataframe\">\n",
       "  <thead>\n",
       "    <tr style=\"text-align: right;\">\n",
       "      <th></th>\n",
       "      <th>views</th>\n",
       "      <th>likes</th>\n",
       "      <th>dislikes</th>\n",
       "      <th>comment</th>\n",
       "      <th>published</th>\n",
       "      <th>duration</th>\n",
       "      <th>category</th>\n",
       "    </tr>\n",
       "  </thead>\n",
       "  <tbody>\n",
       "    <tr>\n",
       "      <th>0</th>\n",
       "      <td>1031602</td>\n",
       "      <td>8523</td>\n",
       "      <td>363</td>\n",
       "      <td>1095</td>\n",
       "      <td>2168</td>\n",
       "      <td>2925</td>\n",
       "      <td>6</td>\n",
       "    </tr>\n",
       "    <tr>\n",
       "      <th>1</th>\n",
       "      <td>1707</td>\n",
       "      <td>56</td>\n",
       "      <td>2</td>\n",
       "      <td>6</td>\n",
       "      <td>2185</td>\n",
       "      <td>3040</td>\n",
       "      <td>4</td>\n",
       "    </tr>\n",
       "    <tr>\n",
       "      <th>2</th>\n",
       "      <td>2023</td>\n",
       "      <td>25</td>\n",
       "      <td>0</td>\n",
       "      <td>2</td>\n",
       "      <td>2094</td>\n",
       "      <td>1863</td>\n",
       "      <td>3</td>\n",
       "    </tr>\n",
       "    <tr>\n",
       "      <th>3</th>\n",
       "      <td>620860</td>\n",
       "      <td>777</td>\n",
       "      <td>161</td>\n",
       "      <td>153</td>\n",
       "      <td>2119</td>\n",
       "      <td>2546</td>\n",
       "      <td>8</td>\n",
       "    </tr>\n",
       "    <tr>\n",
       "      <th>4</th>\n",
       "      <td>666</td>\n",
       "      <td>1</td>\n",
       "      <td>0</td>\n",
       "      <td>0</td>\n",
       "      <td>2091</td>\n",
       "      <td>1963</td>\n",
       "      <td>4</td>\n",
       "    </tr>\n",
       "  </tbody>\n",
       "</table>\n",
       "</div>"
      ],
      "text/plain": [
       "     views  likes  dislikes  comment  published  duration  category\n",
       "0  1031602   8523       363     1095       2168      2925         6\n",
       "1     1707     56         2        6       2185      3040         4\n",
       "2     2023     25         0        2       2094      1863         3\n",
       "3   620860    777       161      153       2119      2546         8\n",
       "4      666      1         0        0       2091      1963         4"
      ]
     },
     "execution_count": 22,
     "metadata": {
      "tags": []
     },
     "output_type": "execute_result"
    }
   ],
   "source": [
    "Y_train = pd.DataFrame(data = data_train.iloc[:, 1].values, columns = ['target'])\n",
    "test_y = pd.DataFrame(data_test.iloc[:, 0].values, columns=['vidid'])\n",
    "data_train=data_train.drop([\"adview\"],axis=1)\n",
    "data_train=data_train.drop([\"vidid\"],axis=1)\n",
    "data_test = data_test.drop(['vidid'], axis=1)\n",
    "data_train.head()"
   ]
  },
  {
   "cell_type": "code",
   "execution_count": 23,
   "metadata": {
    "colab": {
     "base_uri": "https://localhost:8080/"
    },
    "id": "t7bWYF5tDSTm",
    "outputId": "0d3a61a3-7c13-494d-b957-679cafcd826e"
   },
   "outputs": [
    {
     "data": {
      "text/plain": [
       "(11708, 7)"
      ]
     },
     "execution_count": 23,
     "metadata": {
      "tags": []
     },
     "output_type": "execute_result"
    }
   ],
   "source": [
    "from sklearn.model_selection import train_test_split\n",
    "X_train, X_test, y_train, y_test = train_test_split(data_train, Y_train, test_size=0.2, random_state=42)\n",
    "y_train = y_train.to_numpy().ravel()\n",
    "y_test = y_test.to_numpy().ravel()\n",
    "X_train.shape"
   ]
  },
  {
   "cell_type": "markdown",
   "metadata": {
    "id": "pIl0qcmrSXAM"
   },
   "source": [
    "Normalising Data"
   ]
  },
  {
   "cell_type": "code",
   "execution_count": 24,
   "metadata": {
    "colab": {
     "base_uri": "https://localhost:8080/"
    },
    "id": "wVaNlXSlMzjl",
    "outputId": "c8c1c54f-e6c6-4b17-e5fd-049ce7c2b427"
   },
   "outputs": [
    {
     "data": {
      "text/plain": [
       "0.25618694991317975"
      ]
     },
     "execution_count": 24,
     "metadata": {
      "tags": []
     },
     "output_type": "execute_result"
    }
   ],
   "source": [
    "from sklearn.preprocessing import MinMaxScaler\n",
    "scaler = MinMaxScaler()\n",
    "X_train=scaler.fit_transform(X_train)\n",
    "X_test=scaler.fit_transform(X_test)\n",
    "data_test = scaler.transform(data_test)\n",
    "X_train.mean()"
   ]
  },
  {
   "cell_type": "markdown",
   "metadata": {
    "id": "YWaaZpcqS2VU"
   },
   "source": [
    "Evaluation Metrics"
   ]
  },
  {
   "cell_type": "code",
   "execution_count": 25,
   "metadata": {
    "id": "ysPoppbiM0fg"
   },
   "outputs": [],
   "source": [
    "from sklearn import metrics\n",
    "def print_error(X_test, y_test, model_name):\n",
    "  prediction = model_name.predict(X_test)\n",
    "  print('Mean Absolute Error:', metrics.mean_absolute_error(y_test, prediction))\n",
    "  print('Mean Squared Error:', metrics.mean_squared_error(y_test, prediction))\n",
    "  print('Root Mean Squared Error:', np.sqrt(metrics.mean_squared_error(y_test, prediction)))"
   ]
  },
  {
   "cell_type": "markdown",
   "metadata": {
    "id": "tnXB0SlYS5Aa"
   },
   "source": [
    "Linear Regression"
   ]
  },
  {
   "cell_type": "code",
   "execution_count": 26,
   "metadata": {
    "colab": {
     "base_uri": "https://localhost:8080/"
    },
    "id": "XBnT3q4ENtGD",
    "outputId": "a552674d-17b0-4c53-e7fa-0cdc509415ae"
   },
   "outputs": [
    {
     "name": "stdout",
     "output_type": "stream",
     "text": [
      "Mean Absolute Error: 3718.974061923116\n",
      "Mean Squared Error: 835886630.8152658\n",
      "Root Mean Squared Error: 28911.70404551184\n"
     ]
    }
   ],
   "source": [
    "from sklearn import linear_model\n",
    "linear_regression = linear_model.LinearRegression()\n",
    "linear_regression.fit(X_train, y_train)\n",
    "print_error(X_test,y_test, linear_regression)"
   ]
  },
  {
   "cell_type": "markdown",
   "metadata": {
    "id": "m713SGPxS8rU"
   },
   "source": [
    "Support Vector Regressor (SVR)"
   ]
  },
  {
   "cell_type": "code",
   "execution_count": 27,
   "metadata": {
    "colab": {
     "base_uri": "https://localhost:8080/"
    },
    "id": "8IO0hIYXOPYq",
    "outputId": "c99f1b5b-72b5-4283-a387-fe30bfa3d115"
   },
   "outputs": [
    {
     "name": "stdout",
     "output_type": "stream",
     "text": [
      "Mean Absolute Error: 3718.974061923116\n",
      "Mean Squared Error: 835886630.8152658\n",
      "Root Mean Squared Error: 28911.70404551184\n"
     ]
    }
   ],
   "source": [
    "from sklearn.svm import SVR\n",
    "supportvector_regressor = SVR()\n",
    "supportvector_regressor.fit(X_train,y_train)\n",
    "print_error(X_test,y_test, linear_regression)"
   ]
  },
  {
   "cell_type": "markdown",
   "metadata": {
    "id": "hIepvd4RTk9G"
   },
   "source": [
    "Descision Tree Regressor"
   ]
  },
  {
   "cell_type": "code",
   "execution_count": 28,
   "metadata": {
    "colab": {
     "base_uri": "https://localhost:8080/"
    },
    "id": "I9u9VmASOY6S",
    "outputId": "6ca36948-608a-4cfc-d569-3f306ad91712"
   },
   "outputs": [
    {
     "name": "stdout",
     "output_type": "stream",
     "text": [
      "Mean Absolute Error: 2045.9064207650274\n",
      "Mean Squared Error: 436763944.96311474\n",
      "Root Mean Squared Error: 20898.898175815746\n"
     ]
    }
   ],
   "source": [
    "from sklearn.tree import DecisionTreeRegressor\n",
    "decision_tree = DecisionTreeRegressor()\n",
    "decision_tree.fit(X_train, y_train)\n",
    "print_error(X_test,y_test, decision_tree)"
   ]
  },
  {
   "cell_type": "markdown",
   "metadata": {
    "id": "4nuymxZ0Trg6"
   },
   "source": [
    "Random Forest Regressor"
   ]
  },
  {
   "cell_type": "code",
   "execution_count": 29,
   "metadata": {
    "colab": {
     "base_uri": "https://localhost:8080/"
    },
    "id": "ysKp9DgTOgs9",
    "outputId": "7e71a07b-7f54-4463-b217-cefb016d515e"
   },
   "outputs": [
    {
     "name": "stdout",
     "output_type": "stream",
     "text": [
      "Mean Absolute Error: 3427.708839388373\n",
      "Mean Squared Error: 608163244.4911337\n",
      "Root Mean Squared Error: 24660.96600887998\n"
     ]
    }
   ],
   "source": [
    "from sklearn.ensemble import RandomForestRegressor\n",
    "n_estimators = 200\n",
    "max_depth = 25\n",
    "min_samples_split=15\n",
    "min_samples_leaf=2\n",
    "random_forest = RandomForestRegressor(n_estimators = n_estimators, max_depth = max_depth\n",
    "                                      , min_samples_split=min_samples_split,min_samples_leaf=min_samples_leaf)\n",
    "random_forest.fit(X_train,y_train)\n",
    "print_error(X_test,y_test, random_forest)"
   ]
  },
  {
   "cell_type": "markdown",
   "metadata": {
    "id": "3t34ZoApTySL"
   },
   "source": [
    "Artificial Neural Network"
   ]
  },
  {
   "cell_type": "code",
   "execution_count": 30,
   "metadata": {
    "colab": {
     "base_uri": "https://localhost:8080/"
    },
    "id": "4iHJvKIaOjtd",
    "outputId": "6041180e-767b-4845-f683-b9328cabf502"
   },
   "outputs": [
    {
     "name": "stdout",
     "output_type": "stream",
     "text": [
      "Epoch 1/100\n",
      "366/366 [==============================] - 0s 914us/step - loss: 767407424.0000 - mean_squared_error: 767407424.0000\n",
      "Epoch 2/100\n",
      "366/366 [==============================] - 0s 977us/step - loss: 767407360.0000 - mean_squared_error: 767407360.0000\n",
      "Epoch 3/100\n",
      "366/366 [==============================] - 0s 946us/step - loss: 767407168.0000 - mean_squared_error: 767407168.0000\n",
      "Epoch 4/100\n",
      "366/366 [==============================] - 0s 858us/step - loss: 767406464.0000 - mean_squared_error: 767406464.0000\n",
      "Epoch 5/100\n",
      "366/366 [==============================] - 0s 869us/step - loss: 767405440.0000 - mean_squared_error: 767405440.0000\n",
      "Epoch 6/100\n",
      "366/366 [==============================] - 0s 920us/step - loss: 767405568.0000 - mean_squared_error: 767405568.0000\n",
      "Epoch 7/100\n",
      "366/366 [==============================] - 0s 1ms/step - loss: 767400064.0000 - mean_squared_error: 767400064.0000\n",
      "Epoch 8/100\n",
      "366/366 [==============================] - 0s 910us/step - loss: 767377088.0000 - mean_squared_error: 767377088.0000\n",
      "Epoch 9/100\n",
      "366/366 [==============================] - 0s 914us/step - loss: 767336448.0000 - mean_squared_error: 767336448.0000\n",
      "Epoch 10/100\n",
      "366/366 [==============================] - 0s 931us/step - loss: 767285120.0000 - mean_squared_error: 767285120.0000\n",
      "Epoch 11/100\n",
      "366/366 [==============================] - 0s 902us/step - loss: 767214144.0000 - mean_squared_error: 767214144.0000\n",
      "Epoch 12/100\n",
      "366/366 [==============================] - 0s 897us/step - loss: 767119872.0000 - mean_squared_error: 767119872.0000\n",
      "Epoch 13/100\n",
      "366/366 [==============================] - 0s 871us/step - loss: 767010496.0000 - mean_squared_error: 767010496.0000\n",
      "Epoch 14/100\n",
      "366/366 [==============================] - 0s 922us/step - loss: 766885568.0000 - mean_squared_error: 766885568.0000\n",
      "Epoch 15/100\n",
      "366/366 [==============================] - 0s 878us/step - loss: 766748096.0000 - mean_squared_error: 766748096.0000\n",
      "Epoch 16/100\n",
      "366/366 [==============================] - 0s 853us/step - loss: 766600960.0000 - mean_squared_error: 766600960.0000\n",
      "Epoch 17/100\n",
      "366/366 [==============================] - 0s 857us/step - loss: 766448704.0000 - mean_squared_error: 766448704.0000\n",
      "Epoch 18/100\n",
      "366/366 [==============================] - 0s 904us/step - loss: 766294208.0000 - mean_squared_error: 766294208.0000\n",
      "Epoch 19/100\n",
      "366/366 [==============================] - 0s 855us/step - loss: 766136768.0000 - mean_squared_error: 766136768.0000\n",
      "Epoch 20/100\n",
      "366/366 [==============================] - 0s 846us/step - loss: 765976000.0000 - mean_squared_error: 765976000.0000\n",
      "Epoch 21/100\n",
      "366/366 [==============================] - 0s 904us/step - loss: 765814592.0000 - mean_squared_error: 765814592.0000\n",
      "Epoch 22/100\n",
      "366/366 [==============================] - 0s 1ms/step - loss: 765656192.0000 - mean_squared_error: 765656192.0000\n",
      "Epoch 23/100\n",
      "366/366 [==============================] - 0s 932us/step - loss: 765507392.0000 - mean_squared_error: 765507392.0000\n",
      "Epoch 24/100\n",
      "366/366 [==============================] - 0s 921us/step - loss: 765368256.0000 - mean_squared_error: 765368256.0000\n",
      "Epoch 25/100\n",
      "366/366 [==============================] - 0s 901us/step - loss: 765240064.0000 - mean_squared_error: 765240064.0000\n",
      "Epoch 26/100\n",
      "366/366 [==============================] - 0s 850us/step - loss: 765116288.0000 - mean_squared_error: 765116288.0000\n",
      "Epoch 27/100\n",
      "366/366 [==============================] - 0s 926us/step - loss: 764993856.0000 - mean_squared_error: 764993856.0000\n",
      "Epoch 28/100\n",
      "366/366 [==============================] - 0s 864us/step - loss: 764881536.0000 - mean_squared_error: 764881536.0000\n",
      "Epoch 29/100\n",
      "366/366 [==============================] - 0s 889us/step - loss: 764778752.0000 - mean_squared_error: 764778752.0000\n",
      "Epoch 30/100\n",
      "366/366 [==============================] - 0s 896us/step - loss: 764689280.0000 - mean_squared_error: 764689280.0000\n",
      "Epoch 31/100\n",
      "366/366 [==============================] - 0s 859us/step - loss: 764603200.0000 - mean_squared_error: 764603200.0000\n",
      "Epoch 32/100\n",
      "366/366 [==============================] - 0s 865us/step - loss: 764523968.0000 - mean_squared_error: 764523968.0000\n",
      "Epoch 33/100\n",
      "366/366 [==============================] - 0s 903us/step - loss: 764453760.0000 - mean_squared_error: 764453760.0000\n",
      "Epoch 34/100\n",
      "366/366 [==============================] - 0s 888us/step - loss: 764389632.0000 - mean_squared_error: 764389632.0000\n",
      "Epoch 35/100\n",
      "366/366 [==============================] - 0s 902us/step - loss: 764331200.0000 - mean_squared_error: 764331200.0000\n",
      "Epoch 36/100\n",
      "366/366 [==============================] - 0s 914us/step - loss: 764278080.0000 - mean_squared_error: 764278080.0000\n",
      "Epoch 37/100\n",
      "366/366 [==============================] - 0s 955us/step - loss: 764232768.0000 - mean_squared_error: 764232768.0000\n",
      "Epoch 38/100\n",
      "366/366 [==============================] - 0s 875us/step - loss: 764191680.0000 - mean_squared_error: 764191680.0000\n",
      "Epoch 39/100\n",
      "366/366 [==============================] - 0s 925us/step - loss: 764154688.0000 - mean_squared_error: 764154688.0000\n",
      "Epoch 40/100\n",
      "366/366 [==============================] - 0s 874us/step - loss: 764120192.0000 - mean_squared_error: 764120192.0000\n",
      "Epoch 41/100\n",
      "366/366 [==============================] - 0s 870us/step - loss: 764089856.0000 - mean_squared_error: 764089856.0000\n",
      "Epoch 42/100\n",
      "366/366 [==============================] - 0s 901us/step - loss: 764062976.0000 - mean_squared_error: 764062976.0000\n",
      "Epoch 43/100\n",
      "366/366 [==============================] - 0s 881us/step - loss: 764038912.0000 - mean_squared_error: 764038912.0000\n",
      "Epoch 44/100\n",
      "366/366 [==============================] - 0s 1ms/step - loss: 764017472.0000 - mean_squared_error: 764017472.0000\n",
      "Epoch 45/100\n",
      "366/366 [==============================] - 0s 891us/step - loss: 763999360.0000 - mean_squared_error: 763999360.0000\n",
      "Epoch 46/100\n",
      "366/366 [==============================] - 0s 875us/step - loss: 763982208.0000 - mean_squared_error: 763982208.0000\n",
      "Epoch 47/100\n",
      "366/366 [==============================] - 0s 869us/step - loss: 763965888.0000 - mean_squared_error: 763965888.0000\n",
      "Epoch 48/100\n",
      "366/366 [==============================] - 0s 934us/step - loss: 763950848.0000 - mean_squared_error: 763950848.0000\n",
      "Epoch 49/100\n",
      "366/366 [==============================] - 0s 1ms/step - loss: 763939008.0000 - mean_squared_error: 763939008.0000\n",
      "Epoch 50/100\n",
      "366/366 [==============================] - 0s 925us/step - loss: 763934528.0000 - mean_squared_error: 763934528.0000\n",
      "Epoch 51/100\n",
      "366/366 [==============================] - 0s 876us/step - loss: 763916096.0000 - mean_squared_error: 763916096.0000\n",
      "Epoch 52/100\n",
      "366/366 [==============================] - 0s 949us/step - loss: 763904448.0000 - mean_squared_error: 763904448.0000\n",
      "Epoch 53/100\n",
      "366/366 [==============================] - 0s 923us/step - loss: 763896128.0000 - mean_squared_error: 763896128.0000\n",
      "Epoch 54/100\n",
      "366/366 [==============================] - 0s 930us/step - loss: 763886656.0000 - mean_squared_error: 763886656.0000\n",
      "Epoch 55/100\n",
      "366/366 [==============================] - 0s 923us/step - loss: 763875136.0000 - mean_squared_error: 763875136.0000\n",
      "Epoch 56/100\n",
      "366/366 [==============================] - 0s 907us/step - loss: 763866560.0000 - mean_squared_error: 763866560.0000\n",
      "Epoch 57/100\n",
      "366/366 [==============================] - 0s 906us/step - loss: 763856448.0000 - mean_squared_error: 763856448.0000\n",
      "Epoch 58/100\n",
      "366/366 [==============================] - 0s 904us/step - loss: 763850688.0000 - mean_squared_error: 763850688.0000\n",
      "Epoch 59/100\n",
      "366/366 [==============================] - 0s 868us/step - loss: 763843264.0000 - mean_squared_error: 763843264.0000\n",
      "Epoch 60/100\n",
      "366/366 [==============================] - 0s 889us/step - loss: 763833728.0000 - mean_squared_error: 763833728.0000\n",
      "Epoch 61/100\n",
      "366/366 [==============================] - 0s 865us/step - loss: 763825536.0000 - mean_squared_error: 763825536.0000\n",
      "Epoch 62/100\n",
      "366/366 [==============================] - 0s 935us/step - loss: 763817600.0000 - mean_squared_error: 763817600.0000\n",
      "Epoch 63/100\n",
      "366/366 [==============================] - 0s 864us/step - loss: 763810688.0000 - mean_squared_error: 763810688.0000\n",
      "Epoch 64/100\n",
      "366/366 [==============================] - 0s 868us/step - loss: 763804608.0000 - mean_squared_error: 763804608.0000\n",
      "Epoch 65/100\n",
      "366/366 [==============================] - 0s 896us/step - loss: 763796096.0000 - mean_squared_error: 763796096.0000\n",
      "Epoch 66/100\n",
      "366/366 [==============================] - 0s 903us/step - loss: 763793472.0000 - mean_squared_error: 763793472.0000\n",
      "Epoch 67/100\n",
      "366/366 [==============================] - 0s 928us/step - loss: 763783168.0000 - mean_squared_error: 763783168.0000\n",
      "Epoch 68/100\n",
      "366/366 [==============================] - 0s 933us/step - loss: 763774784.0000 - mean_squared_error: 763774784.0000\n",
      "Epoch 69/100\n",
      "366/366 [==============================] - 0s 945us/step - loss: 763770304.0000 - mean_squared_error: 763770304.0000\n",
      "Epoch 70/100\n",
      "366/366 [==============================] - 0s 899us/step - loss: 763761216.0000 - mean_squared_error: 763761216.0000\n",
      "Epoch 71/100\n",
      "366/366 [==============================] - 0s 954us/step - loss: 763755072.0000 - mean_squared_error: 763755072.0000\n",
      "Epoch 72/100\n",
      "366/366 [==============================] - 0s 1ms/step - loss: 763748736.0000 - mean_squared_error: 763748736.0000\n",
      "Epoch 73/100\n",
      "366/366 [==============================] - 0s 910us/step - loss: 763741440.0000 - mean_squared_error: 763741440.0000\n",
      "Epoch 74/100\n",
      "366/366 [==============================] - 0s 930us/step - loss: 763731776.0000 - mean_squared_error: 763731776.0000\n",
      "Epoch 75/100\n",
      "366/366 [==============================] - 0s 903us/step - loss: 763726144.0000 - mean_squared_error: 763726144.0000\n",
      "Epoch 76/100\n",
      "366/366 [==============================] - 0s 956us/step - loss: 763717888.0000 - mean_squared_error: 763717888.0000\n",
      "Epoch 77/100\n",
      "366/366 [==============================] - 0s 890us/step - loss: 763711744.0000 - mean_squared_error: 763711744.0000\n",
      "Epoch 78/100\n",
      "366/366 [==============================] - 0s 945us/step - loss: 763705152.0000 - mean_squared_error: 763705152.0000\n",
      "Epoch 79/100\n",
      "366/366 [==============================] - 0s 897us/step - loss: 763704704.0000 - mean_squared_error: 763704704.0000\n",
      "Epoch 80/100\n",
      "366/366 [==============================] - 0s 940us/step - loss: 763689984.0000 - mean_squared_error: 763689984.0000\n",
      "Epoch 81/100\n",
      "366/366 [==============================] - 0s 925us/step - loss: 763683840.0000 - mean_squared_error: 763683840.0000\n",
      "Epoch 82/100\n",
      "366/366 [==============================] - 0s 935us/step - loss: 763676416.0000 - mean_squared_error: 763676416.0000\n",
      "Epoch 83/100\n",
      "366/366 [==============================] - 0s 893us/step - loss: 763672064.0000 - mean_squared_error: 763672064.0000\n",
      "Epoch 84/100\n",
      "366/366 [==============================] - 0s 1ms/step - loss: 763664064.0000 - mean_squared_error: 763664064.0000\n",
      "Epoch 85/100\n",
      "366/366 [==============================] - 0s 888us/step - loss: 763657088.0000 - mean_squared_error: 763657088.0000\n",
      "Epoch 86/100\n",
      "366/366 [==============================] - 0s 918us/step - loss: 763648576.0000 - mean_squared_error: 763648576.0000\n",
      "Epoch 87/100\n",
      "366/366 [==============================] - 0s 889us/step - loss: 763643712.0000 - mean_squared_error: 763643712.0000\n",
      "Epoch 88/100\n",
      "366/366 [==============================] - 0s 897us/step - loss: 763637056.0000 - mean_squared_error: 763637056.0000\n",
      "Epoch 89/100\n",
      "366/366 [==============================] - 0s 908us/step - loss: 763633344.0000 - mean_squared_error: 763633344.0000\n",
      "Epoch 90/100\n",
      "366/366 [==============================] - 0s 899us/step - loss: 763620032.0000 - mean_squared_error: 763620032.0000\n",
      "Epoch 91/100\n",
      "366/366 [==============================] - 0s 925us/step - loss: 763611648.0000 - mean_squared_error: 763611648.0000\n",
      "Epoch 92/100\n",
      "366/366 [==============================] - 0s 968us/step - loss: 763604416.0000 - mean_squared_error: 763604416.0000\n",
      "Epoch 93/100\n",
      "366/366 [==============================] - 0s 934us/step - loss: 763597696.0000 - mean_squared_error: 763597696.0000\n",
      "Epoch 94/100\n",
      "366/366 [==============================] - 0s 904us/step - loss: 763593216.0000 - mean_squared_error: 763593216.0000\n",
      "Epoch 95/100\n",
      "366/366 [==============================] - 0s 934us/step - loss: 763583296.0000 - mean_squared_error: 763583296.0000\n",
      "Epoch 96/100\n",
      "366/366 [==============================] - 0s 957us/step - loss: 763577856.0000 - mean_squared_error: 763577856.0000\n",
      "Epoch 97/100\n",
      "366/366 [==============================] - 0s 1ms/step - loss: 763568704.0000 - mean_squared_error: 763568704.0000\n",
      "Epoch 98/100\n",
      "366/366 [==============================] - 0s 1ms/step - loss: 763559040.0000 - mean_squared_error: 763559040.0000\n",
      "Epoch 99/100\n",
      "366/366 [==============================] - 0s 1ms/step - loss: 763549504.0000 - mean_squared_error: 763549504.0000\n",
      "Epoch 100/100\n",
      "366/366 [==============================] - 0s 933us/step - loss: 763542464.0000 - mean_squared_error: 763542464.0000\n",
      "Model: \"sequential\"\n",
      "_________________________________________________________________\n",
      "Layer (type)                 Output Shape              Param #   \n",
      "=================================================================\n",
      "dense (Dense)                (None, 6)                 48        \n",
      "_________________________________________________________________\n",
      "dense_1 (Dense)              (None, 6)                 42        \n",
      "_________________________________________________________________\n",
      "dense_2 (Dense)              (None, 1)                 7         \n",
      "=================================================================\n",
      "Total params: 97\n",
      "Trainable params: 97\n",
      "Non-trainable params: 0\n",
      "_________________________________________________________________\n",
      "Mean Absolute Error: 3315.095898737673\n",
      "Mean Squared Error: 829868437.3587136\n",
      "Root Mean Squared Error: 28807.437188314994\n"
     ]
    }
   ],
   "source": [
    "import keras\n",
    "from keras.layers import Dense\n",
    "ann = keras.models.Sequential([\n",
    "Dense(6, activation=\"relu\",\n",
    "input_shape=X_train.shape[1:]),\n",
    "Dense(6,activation=\"relu\"),\n",
    "Dense(1)\n",
    "])\n",
    "optimizer=keras.optimizers.Adam()\n",
    "loss=keras.losses.mean_squared_error\n",
    "ann.compile(optimizer=optimizer,loss=loss,metrics=['mean_squared_error'])\n",
    "history=ann.fit(X_train,y_train,epochs=100)\n",
    "ann.summary()\n",
    "print_error(X_test,y_test,ann)"
   ]
  },
  {
   "cell_type": "markdown",
   "metadata": {
    "id": "1c_izurHT3ZE"
   },
   "source": [
    "Saving Scikitlearn models"
   ]
  },
  {
   "cell_type": "code",
   "execution_count": 31,
   "metadata": {
    "colab": {
     "base_uri": "https://localhost:8080/"
    },
    "id": "3JdlENP_Oppv",
    "outputId": "d08acb73-f447-4df8-dede-1ccbd7ed5a57"
   },
   "outputs": [
    {
     "data": {
      "text/plain": [
       "['decisiontree_youtubeadview.pkl']"
      ]
     },
     "execution_count": 31,
     "metadata": {
      "tags": []
     },
     "output_type": "execute_result"
    }
   ],
   "source": [
    "import joblib\n",
    "joblib.dump(decision_tree, \"decisiontree_youtubeadview.pkl\")"
   ]
  },
  {
   "cell_type": "markdown",
   "metadata": {
    "id": "1Vd3VRdXT4Cy"
   },
   "source": [
    "Saving Keras Artificial Neural Network model"
   ]
  },
  {
   "cell_type": "code",
   "execution_count": 32,
   "metadata": {
    "id": "h1zbQnAYOz3W"
   },
   "outputs": [],
   "source": [
    "# Saving Keras Artificial Neural Network model\n",
    "ann.save(\"ann_youtubeadview.h5\")"
   ]
  },
  {
   "cell_type": "markdown",
   "metadata": {
    "id": "sgwQtAOwCdlG"
   },
   "source": [
    "Loading model"
   ]
  },
  {
   "cell_type": "code",
   "execution_count": 33,
   "metadata": {
    "id": "4CczPtB1ZhQq"
   },
   "outputs": [],
   "source": [
    "model = joblib.load('decisiontree_youtubeadview.pkl')"
   ]
  },
  {
   "cell_type": "code",
   "execution_count": 34,
   "metadata": {
    "id": "LrVITRvbOHrk"
   },
   "outputs": [],
   "source": [
    "model = keras.models.load_model('ann_youtubeadview.h5')"
   ]
  },
  {
   "cell_type": "markdown",
   "metadata": {
    "id": "kldgm_QyClbO"
   },
   "source": [
    "Predicting"
   ]
  },
  {
   "cell_type": "code",
   "execution_count": 35,
   "metadata": {
    "id": "_qir8btmYTrH"
   },
   "outputs": [],
   "source": [
    "preds = model.predict(data_test)\n",
    "preds = preds.astype(np.int16)\n",
    "preds = preds.reshape(1, -1)[0].tolist()"
   ]
  },
  {
   "cell_type": "markdown",
   "metadata": {
    "id": "Cx5aeACdCuO1"
   },
   "source": [
    "Creating Predictions.csv File"
   ]
  },
  {
   "cell_type": "code",
   "execution_count": 36,
   "metadata": {
    "id": "pJyzh2XrZ7Cw"
   },
   "outputs": [],
   "source": [
    "d = {'adview': preds}\n",
    "pd.DataFrame(d).to_csv('predictions.csv', index=False)"
   ]
  }
 ],
 "metadata": {
  "colab": {
   "collapsed_sections": [],
   "name": "INTERNSHIP STUDIO PROJECT.ipynb",
   "provenance": []
  },
  "kernelspec": {
   "display_name": "Python 3",
   "language": "python",
   "name": "python3"
  },
  "language_info": {
   "codemirror_mode": {
    "name": "ipython",
    "version": 3
   },
   "file_extension": ".py",
   "mimetype": "text/x-python",
   "name": "python",
   "nbconvert_exporter": "python",
   "pygments_lexer": "ipython3",
   "version": "3.7.3"
  }
 },
 "nbformat": 4,
 "nbformat_minor": 1
}
